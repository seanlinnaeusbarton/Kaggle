{
 "cells": [
  {
   "cell_type": "code",
   "execution_count": 1,
   "metadata": {},
   "outputs": [
    {
     "name": "stderr",
     "output_type": "stream",
     "text": [
      "\n",
      "Bad key \"axes.color_cycle\" on line 240 in\n",
      "/Users/Sean/.matplotlib/matplotlibrc.\n",
      "You probably need to get an updated matplotlibrc file from\n",
      "http://github.com/matplotlib/matplotlib/blob/master/matplotlibrc.template\n",
      "or from the matplotlib source distribution\n"
     ]
    }
   ],
   "source": [
    "import numpy as np\n",
    "import tensorflow as tf\n",
    "import pandas as pd\n",
    "import matplotlib.pyplot as plt\n",
    "\n",
    "pd.set_option(\"precision\",16)\n",
    "%matplotlib inline"
   ]
  },
  {
   "cell_type": "code",
   "execution_count": 132,
   "metadata": {},
   "outputs": [],
   "source": [
    "class LSTM_Config(object):\n",
    "    def __init__(self):\n",
    "        self.reset()\n",
    "        \n",
    "    def reset(self):\n",
    "        self.lr = 0.001\n",
    "        self.num_layers = 1\n",
    "        self.hidden_size = 256\n",
    "        self.input_size = 1\n",
    "        self.output_size = 1\n",
    "        self.num_epochs = 50\n",
    "        self.batch_size = 500\n",
    "        self.step_size = 10000\n",
    "        self.reuse = False"
   ]
  },
  {
   "cell_type": "code",
   "execution_count": 70,
   "metadata": {},
   "outputs": [],
   "source": [
    "class LSTM_Model(object):\n",
    "    def __init__(self,scope,config):\n",
    "        self.config = config\n",
    "        with tf.variable_scope(scope):\n",
    "            self._build_graph()\n",
    "    \n",
    "    def _build_graph(self):\n",
    "        self._init_placeholders()\n",
    "        self._build_model()\n",
    "        self._setup_training()\n",
    "        \n",
    "    def _init_placeholders(self):\n",
    "        self.input_ph = tf.placeholder(\n",
    "            tf.float32, \n",
    "            [None, self.config.step_size, self.config.input_size],\n",
    "            name=\"input_ph\"\n",
    "        )\n",
    "        self.targets_ph = tf.placeholder(\n",
    "            tf.float32,\n",
    "            [None, self.config.step_size,self.config.output_size],\n",
    "            name=\"targets_ph\"\n",
    "        )\n",
    "        \n",
    "    def _build_model(self):\n",
    "        with tf.variable_scope(\"model\", reuse=self.config.reuse):\n",
    "            lstm_cell = tf.contrib.rnn.LSTMCell(\n",
    "                self.config.hidden_size,\n",
    "                activation=tf.nn.relu,\n",
    "                state_is_tuple=True\n",
    "            )\n",
    "            \n",
    "            batch_size = tf.shape(self.input_ph)[0]\n",
    "            step_size = tf.shape(self.input_ph)[1]\n",
    "            \n",
    "            self.state_in = lstm_cell.zero_state(batch_size, tf.float32)\n",
    "            \n",
    "            self.model, self.state = tf.nn.dynamic_rnn(\n",
    "                lstm_cell,\n",
    "                self.input_ph,\n",
    "                initial_state=self.state_in,\n",
    "                time_major=False\n",
    "            )\n",
    "            \n",
    "            c,h = self.state\n",
    "            self.state_out = (c,h)\n",
    "            self.model = tf.reshape(self.model, shape=[-1,self.config.hidden_size])\n",
    "            self.model = tf.contrib.layers.fully_connected(\n",
    "                self.model,\n",
    "                num_outputs=self.config.output_size,\n",
    "                activation_fn=None\n",
    "            )\n",
    "            \n",
    "            #weights = tf.Variable(tf.random_uniform(\n",
    "            #    [self.config.hidden_size, self.config.output_size],\n",
    "            #    minval=-0.05, maxval=0.05\n",
    "            #))\n",
    "            #biases = tf.Variable(tf.random_uniform(\n",
    "            #    [self.config.output_size],\n",
    "            #    minval=-0.05, maxval=0.05\n",
    "            #))\n",
    "            #self.model = tf.nn.xw_plus_b(self.model, weights, biases, name=\"model\")\n",
    "            self.model = tf.reshape(self.model, shape=[batch_size, step_size, self.config.output_size])\n",
    "    \n",
    "    def _setup_training(self):\n",
    "        self.loss = tf.reduce_mean(tf.square(self.model - self.targets_ph))\n",
    "        self.optimizer = tf.train.AdamOptimizer(learning_rate=self.config.lr)\n",
    "        self.training = self.optimizer.minimize(self.loss)"
   ]
  },
  {
   "cell_type": "code",
   "execution_count": 4,
   "metadata": {},
   "outputs": [
    {
     "name": "stdout",
     "output_type": "stream",
     "text": [
      "CPU times: user 2min 55s, sys: 27.4 s, total: 3min 23s\n",
      "Wall time: 3min 24s\n"
     ]
    }
   ],
   "source": [
    "%%time\n",
    "data = pd.read_csv(\"./train/train.csv\", dtype={'acoustic_data':np.int16, 'time_to_failure':np.float32})"
   ]
  },
  {
   "cell_type": "code",
   "execution_count": 78,
   "metadata": {},
   "outputs": [
    {
     "name": "stderr",
     "output_type": "stream",
     "text": [
      "/Users/Sean/anaconda3/envs/dev/lib/python3.6/site-packages/sklearn/utils/validation.py:595: DataConversionWarning: Data with input dtype int16 was converted to float64 by MinMaxScaler.\n",
      "  warnings.warn(msg, DataConversionWarning)\n"
     ]
    }
   ],
   "source": [
    "from sklearn.preprocessing import MinMaxScaler\n",
    "min_max_scaler = MinMaxScaler()\n",
    "\n",
    "data['acoustic_data'] = min_max_scaler.fit_transform(data['acoustic_data'].values.reshape(-1,1))"
   ]
  },
  {
   "cell_type": "code",
   "execution_count": 134,
   "metadata": {},
   "outputs": [
    {
     "name": "stdout",
     "output_type": "stream",
     "text": [
      "503316383\n",
      "503316383\n",
      "125829096\n"
     ]
    }
   ],
   "source": [
    "train_len = int(0.8 * len(data['acoustic_data'].values))\n",
    "test_len = int(len(data['acoustic_data'].values))\n",
    "\n",
    "sig_train = data['acoustic_data'].values[:train_len-1]\n",
    "n_sig_train = data['acoustic_data'].values[1:train_len]\n",
    "fail_train = data['time_to_failure'].values[:train_len-1]\n",
    "\n",
    "sig_test = data['acoustic_data'].values[train_len-1:test_len-1]\n",
    "n_sig_test = data['acoustic_data'].values[train_len:test_len]\n",
    "fail_test = data['time_to_failure'].values[train_len:test_len-1]\n",
    "\n",
    "print(len(sig_train))\n",
    "print(len(n_sig_train))\n",
    "print(len(sig_test))"
   ]
  },
  {
   "cell_type": "code",
   "execution_count": null,
   "metadata": {},
   "outputs": [
    {
     "name": "stdout",
     "output_type": "stream",
     "text": [
      "(50331, 10000, 1)\n",
      "(12582, 10000, 1)\n"
     ]
    }
   ],
   "source": [
    "config =  LSTM_Config()\n",
    "\n",
    "num_sequences = sig_train.shape[0] // config.step_size\n",
    "num_test_sequences = sig_test.shape[0] // config.step_size\n",
    "\n",
    "X = sig_train[:num_sequences*config.step_size]\n",
    "X = np.reshape(X, [num_sequences, config.step_size, 1])\n",
    "print(X.shape)\n",
    "\n",
    "X_1 = n_sig_train[:num_sequences*config.step_size]\n",
    "X_1 = np.reshape(X_1, [num_sequences, config.step_size, 1])\n",
    "\n",
    "Y = fail_train[:num_sequences*config.step_size]\n",
    "Y = np.reshape(Y, [num_sequences, config.step_size, 1])\n",
    "\n",
    "Xp = sig_test[:num_test_sequences*config.step_size]\n",
    "Xp = np.reshape(Xp, [num_test_sequences, config.step_size, 1])\n",
    "print(Xp.shape)\n",
    "\n",
    "Xp_1 = n_sig_test[:num_test_sequences*config.step_size]\n",
    "Xp_1 = np.reshape(Xp_1, [num_test_sequences, config.step_size, 1])\n",
    "\n",
    "Yp = fail_test[:num_test_sequences*config.step_size]\n",
    "Yp = np.reshape(Yp, [num_test_sequences, config.step_size, 1])\n",
    "    \n",
    "tf.reset_default_graph()\n",
    "\n",
    "model = LSTM_Model('model', config)\n",
    "\n",
    "init_op = tf.global_variables_initializer()\n",
    "\n",
    "index_in_epoch = 0\n",
    "perm_array = np.arange(X.shape[0])\n",
    "np.random.shuffle(perm_array)\n",
    "\n",
    "def next_batch(batch_size):\n",
    "    global index_in_epoch, X, X_1, Y, perm_array\n",
    "    start = index_in_epoch\n",
    "    index_in_epoch += batch_size\n",
    "\n",
    "    if index_in_epoch > X.shape[0]:\n",
    "        np.random.shuffle(perm_array)\n",
    "        start = 0\n",
    "        index_in_epoch = batch_size\n",
    "\n",
    "    end = index_in_epoch\n",
    "    return X[perm_array[start:end]], Y[perm_array[start:end]]\n",
    "\n",
    "with tf.Session() as sess:\n",
    "\n",
    "    sess.run([init_op])\n",
    "\n",
    "    train_size = X.shape[0]\n",
    "    lstm_state = np.zeros((2, config.batch_size, config.hidden_size))\n",
    "\n",
    "\n",
    "    for iteration in range(int(config.num_epochs*train_size/config.batch_size)):\n",
    "        if index_in_epoch == 0:\n",
    "            lstm_state = np.zeros((2, config.batch_size, config.hidden_size))\n",
    "\n",
    "        signal_batch, target_batch = next_batch(config.batch_size)\n",
    "\n",
    "        training_feed = {\n",
    "            model.input_ph : signal_batch,\n",
    "            model.targets_ph : target_batch,\n",
    "            model.state_in[0] : lstm_state[0],\n",
    "            model.state_in[1] : lstm_state[1]\n",
    "        }\n",
    "\n",
    "        loss, _, lstm_state = sess.run([model.loss, model.training, model.state],\n",
    "                feed_dict=training_feed)\n",
    "        #print(loss)\n",
    "        if iteration % int(5*train_size/config.batch_size) == 0:\n",
    "            \n",
    "            eval_lstm_state = np.zeros((2, signal_train.shape[0], config.hidden_size))\n",
    "            eval_feed = {\n",
    "                model.input_ph : signal_train,\n",
    "                model.targets_ph : next_signal_train,\n",
    "                model.state_in[0] : eval_lstm_state[0],\n",
    "                model.state_in[1] : eval_lstm_state[1]\n",
    "            }\n",
    "            mse_train, _ = sess.run([model.loss,model.state], feed_dict=eval_feed)\n",
    "            #mse_train = model.loss.eval(feed_dict=eval_feed)\n",
    "            \n",
    "            valid_lstm_state = np.zeros((2, signal_test.shape[0], config.hidden_size))\n",
    "            valid_feed = {\n",
    "                model.input_ph : signal_test,\n",
    "                model.targets_ph : next_signal_test,\n",
    "                model.state_in[0] : valid_lstm_state[0],\n",
    "                model.state_in[1] : valid_lstm_state[1]\n",
    "            }\n",
    "            mse_valid, _ = sess.run([model.loss, model.state], feed_dict=valid_feed)\n",
    "            #mse_valid = model.loss.eval(feed_dict=valid_feed)\n",
    "            print('%.2f epochs: MSE train/valid = %.6f/%.6f'%(\n",
    "                iteration*config.batch_size/train_size, mse_train, mse_valid))\n",
    "    predict_lstm_state = np.zeros((2, signal_test.shape[0], config.hidden_size))\n",
    "    predict_feed = {\n",
    "        model.input_ph : signal_test,\n",
    "        model.state_in[0] : predict_lstm_state[0],\n",
    "        model.state_in[1] : predict_lstm_state[1]\n",
    "    }\n",
    "    prediction = sess.run(model.model, feed_dict=predict_feed)"
   ]
  },
  {
   "cell_type": "code",
   "execution_count": 131,
   "metadata": {},
   "outputs": [
    {
     "name": "stdout",
     "output_type": "stream",
     "text": [
      "[0.13432649 0.13429567 0.13429971 0.13429652 0.134283   0.13427779\n",
      " 0.13431016 0.13430497 0.13430077 0.13430929 0.13430265 0.13430265\n",
      " 0.13429435 0.13429269 0.13428605 0.13429926 0.13433059 0.1342735\n",
      " 0.134301   0.13429882]\n"
     ]
    },
    {
     "data": {
      "text/plain": [
       "[<matplotlib.lines.Line2D at 0xb332a8a90>]"
      ]
     },
     "execution_count": 131,
     "metadata": {},
     "output_type": "execute_result"
    },
    {
     "data": {
      "image/png": "[encoded data removed]",
      "text/plain": [
       "<Figure size 432x288 with 2 Axes>"
      ]
     },
     "metadata": {
      "needs_background": "light"
     },
     "output_type": "display_data"
    }
   ],
   "source": [
    "print(prediction[0:20,-1,0])\n",
    "test = np.reshape(signal_test,(20000*100,1))*10\n",
    "target = np.reshape(next_signal_test,(20000*100,1))*10\n",
    "#pred = np.reshape(prediction[:,-1,:],(20000,1))*10\n",
    "\n",
    "fig, ax1 = plt.subplots()\n",
    "t = np.arange(len(test))\n",
    "ax1.plot(t,test)\n",
    "ax1.set_xlabel('time')\n",
    "ax1.set_ylabel('acoustic signal')\n",
    "\n",
    "ax2 = ax1.twinx()\n",
    "ax2.plot(t,target, 'r')\n",
    "#ax2.plot(pred, 'g')"
   ]
  },
  {
   "cell_type": "code",
   "execution_count": null,
   "metadata": {},
   "outputs": [],
   "source": []
  }
 ],
 "metadata": {
  "kernelspec": {
   "display_name": "Python 3",
   "language": "python",
   "name": "python3"
  },
  "language_info": {
   "codemirror_mode": {
    "name": "ipython",
    "version": 3
   },
   "file_extension": ".py",
   "mimetype": "text/x-python",
   "name": "python",
   "nbconvert_exporter": "python",
   "pygments_lexer": "ipython3",
   "version": "3.6.8"
  }
 },
 "nbformat": 4,
 "nbformat_minor": 2
}
